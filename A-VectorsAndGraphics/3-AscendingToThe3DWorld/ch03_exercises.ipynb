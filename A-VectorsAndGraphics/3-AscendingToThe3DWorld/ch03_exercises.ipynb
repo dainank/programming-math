{
 "cells": [
  {
   "cell_type": "markdown",
   "metadata": {},
   "source": [
    "# 3 - Ascending to the 3D World"
   ]
  }
 ],
 "metadata": {
  "kernelspec": {
   "display_name": "Python 3.11.0 64-bit (microsoft store)",
   "language": "python",
   "name": "python3"
  },
  "language_info": {
   "name": "python",
   "version": "3.11.0"
  },
  "orig_nbformat": 4,
  "vscode": {
   "interpreter": {
    "hash": "c2cd0e619ffde8a55fdd49ec08d848f1b2dfbfadeaf6171e370e976afb847af6"
   }
  }
 },
 "nbformat": 4,
 "nbformat_minor": 2
}
